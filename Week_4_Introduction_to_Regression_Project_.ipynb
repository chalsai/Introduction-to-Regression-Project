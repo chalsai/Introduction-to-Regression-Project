{
  "cells": [
    {
      "cell_type": "markdown",
      "metadata": {
        "id": "view-in-github",
        "colab_type": "text"
      },
      "source": [
        "<a href=\"https://colab.research.google.com/github/chalsai/Introduction-to-Regression-Project/blob/main/Week_4_Introduction_to_Regression_Project_.ipynb\" target=\"_parent\"><img src=\"https://colab.research.google.com/assets/colab-badge.svg\" alt=\"Open In Colab\"/></a>"
      ]
    },
    {
      "cell_type": "markdown",
      "metadata": {
        "id": "tFQaGKHrzhVQ"
      },
      "source": [
        "# Project description\n",
        "Mobile carrier Megaline has found out that many of their subscribers use legacy plans. They want to develop a model that would analyze subscribers' behavior and recommend one of Megaline's newer plans: Smart or Ultra.\n",
        "You have access to behavior data about subscribers who have already switched to the new plans (from the project for the Statistical Data Analysis course). For this classification task, you need to develop a model that will pick the right plan. Since you’ve already performed the data preprocessing step, you can move straight to creating the model.\n",
        "Develop a model with the highest possible accuracy. In this project, the threshold for accuracy is 0.75. Check the accuracy using the test dataset.\n",
        "\n",
        "\n",
        "\n",
        "\n"
      ]
    },
    {
      "cell_type": "markdown",
      "metadata": {
        "id": "VoMengngzhVS"
      },
      "source": [
        "# Data description\n",
        "Every observation in the dataset contains monthly behavior information about one user.\n",
        "\n",
        "The information given is as follows:\n",
        "\n",
        "\n",
        "сalls — number of calls,\n",
        "\n",
        "\n",
        "minutes — total call duration in minutes,\n",
        "\n",
        "\n",
        "messages — number of text messages,\n",
        "\n",
        "\n",
        "mb_used — Internet traffic used in MB,\n",
        "\n",
        "\n",
        "is_ultra — plan for the current month (Ultra - 1, Smart - 0)."
      ]
    },
    {
      "cell_type": "code",
      "execution_count": 1,
      "metadata": {
        "id": "MmOprG4izhVU"
      },
      "outputs": [],
      "source": [
        "#Let us load all relevant packages and import the data \n",
        "import pandas as pd\n",
        "from sklearn.tree import DecisionTreeClassifier\n",
        "from sklearn.ensemble import RandomForestClassifier\n",
        "from sklearn.metrics import accuracy_score\n",
        "from sklearn.model_selection import train_test_split\n",
        "from sklearn.linear_model import LogisticRegression\n",
        "from sklearn.model_selection import GridSearchCV\n",
        "from sklearn.metrics import precision_score"
      ]
    },
    {
      "cell_type": "code",
      "execution_count": 2,
      "metadata": {
        "id": "Xr_sFBskzhVX"
      },
      "outputs": [],
      "source": [
        "#import data\n",
        "df = pd.read_csv('https://bit.ly/UsersBehaviourTelco')\n",
        "\n"
      ]
    },
    {
      "cell_type": "code",
      "execution_count": 3,
      "metadata": {
        "id": "sITaecPUzhVZ",
        "outputId": "ed3b45c9-8af2-4968-997b-ab102f958229",
        "colab": {
          "base_uri": "https://localhost:8080/"
        }
      },
      "outputs": [
        {
          "output_type": "stream",
          "name": "stdout",
          "text": [
            "<class 'pandas.core.frame.DataFrame'>\n",
            "RangeIndex: 3214 entries, 0 to 3213\n",
            "Data columns (total 5 columns):\n",
            " #   Column    Non-Null Count  Dtype  \n",
            "---  ------    --------------  -----  \n",
            " 0   calls     3214 non-null   float64\n",
            " 1   minutes   3214 non-null   float64\n",
            " 2   messages  3214 non-null   float64\n",
            " 3   mb_used   3214 non-null   float64\n",
            " 4   is_ultra  3214 non-null   int64  \n",
            "dtypes: float64(4), int64(1)\n",
            "memory usage: 125.7 KB\n"
          ]
        }
      ],
      "source": [
        "#Let's see if we have any NA\n",
        "df.isna().sum()\n",
        "df.info()\n",
        "#Let's study the data types of the dataframe\n",
        "df['messages'] = df['messages'].astype(int) \n",
        "df['calls'] = df['calls'].astype(int) \n",
        "\n",
        "\n"
      ]
    },
    {
      "cell_type": "markdown",
      "metadata": {
        "id": "F-Z2pmICzhVb"
      },
      "source": [
        "<div class=\"alert alert-block alert-success\">\n",
        "<b>Success:</b> Data loading and initial analysis are well done.\n",
        "</div>"
      ]
    },
    {
      "cell_type": "markdown",
      "metadata": {
        "id": "u0QBRjlAzhVc"
      },
      "source": [
        "We see that there are no NA values, so we didn't have to do any extra processing work. Calls and messages don't need to be float so I converted them to int. \n",
        "\n",
        "# Dataset splitting"
      ]
    },
    {
      "cell_type": "code",
      "execution_count": 4,
      "metadata": {
        "id": "_8Mwuy3czhVd"
      },
      "outputs": [],
      "source": [
        "#Now, we will split the data into training, testing and validation sets. Of the base dataset,\n",
        "#I will split 20% for testing and 80% for training.\n",
        "features = df.drop(columns=['is_ultra'])\n",
        "target =  df['is_ultra']\n",
        "features_train, features_test, target_train, target_test = train_test_split(features, target, test_size=0.20, random_state=12345)\n",
        "features_train, features_valid, target_train, target_valid = train_test_split(features_train, target_train, test_size=0.2, random_state=12345 )\n"
      ]
    },
    {
      "cell_type": "code",
      "execution_count": 5,
      "metadata": {
        "id": "AKemwTGgzhVe",
        "outputId": "b84e51ba-ad82-41f3-c73b-1d39e61b1692",
        "colab": {
          "base_uri": "https://localhost:8080/"
        }
      },
      "outputs": [
        {
          "output_type": "stream",
          "name": "stdout",
          "text": [
            "2056\n",
            "2056\n",
            "643\n",
            "643\n",
            "515\n",
            "515\n"
          ]
        }
      ],
      "source": [
        "print(len(features_train))\n",
        "print(len(target_train))\n",
        "print(len(features_test))\n",
        "print(len(target_test))\n",
        "print(len(features_valid))\n",
        "print(len(target_valid))\n"
      ]
    },
    {
      "cell_type": "markdown",
      "metadata": {
        "id": "zIuChay8zhVf"
      },
      "source": [
        "As a sanity check to see if the function worked correctly, I manually checked if the sizes of the training, testing and validation dataset numbers were correct."
      ]
    },
    {
      "cell_type": "markdown",
      "metadata": {
        "id": "4SS_SFQgzhVg"
      },
      "source": [
        "<div class=\"alert alert-block alert-success\">\n",
        "<b>Success:</b> Data splitting was done well. Great that you print out information about sets after splitting!\n",
        "</div>"
      ]
    },
    {
      "cell_type": "markdown",
      "metadata": {
        "id": "9G-FhFTezhVh"
      },
      "source": [
        "# Hyperparameter tuning \n",
        "\n",
        "I will investigate the quality of different models by changing hyperparameters, and then briefly describe the findings of my study."
      ]
    },
    {
      "cell_type": "code",
      "execution_count": 6,
      "metadata": {
        "id": "HcmqT8lizhVh",
        "outputId": "9d411f7d-630a-4c88-c1f0-f919c2d7b990",
        "colab": {
          "base_uri": "https://localhost:8080/"
        }
      },
      "outputs": [
        {
          "output_type": "execute_result",
          "data": {
            "text/plain": [
              "0.745136186770428"
            ]
          },
          "metadata": {},
          "execution_count": 6
        }
      ],
      "source": [
        "#First, let fit the datasets to a Logistic Regression model\n",
        "LogRegMod = LogisticRegression(random_state=12345, solver='liblinear') \n",
        "LogRegMod.fit(features_train, target_train) \n",
        "LogRegMod.score(features_train, target_train)\n"
      ]
    },
    {
      "cell_type": "markdown",
      "metadata": {
        "id": "Hp42PrKYzhVh"
      },
      "source": [
        "We see that logistic regression has an accuracy of 74.5% which is not too bad but we can definitely do better with other models."
      ]
    },
    {
      "cell_type": "code",
      "execution_count": 7,
      "metadata": {
        "id": "sIoNLk9AzhVi",
        "outputId": "647b602a-bbaf-4ca1-e333-333de79bd64f",
        "colab": {
          "base_uri": "https://localhost:8080/"
        }
      },
      "outputs": [
        {
          "output_type": "execute_result",
          "data": {
            "text/plain": [
              "0.828307392996109"
            ]
          },
          "metadata": {},
          "execution_count": 7
        }
      ],
      "source": [
        "#Now, let us fit a decision tree model\n",
        "DecTreeMod = DecisionTreeClassifier(random_state=12345, max_depth=5)\n",
        "\n",
        "DecTreeMod.fit(features_train, target_train)\n",
        "DecTreeMod.score(features_train, target_train)"
      ]
    },
    {
      "cell_type": "markdown",
      "metadata": {
        "id": "Qzp8He6szhVj"
      },
      "source": [
        "As a random guess, I decided to see how a model with max depth 5 would do. We already have a better accuracy than the logistic regression. Let's see if there are better hyperparameters we can find by doing an exhaustive search using the sklearn function 'GridSearchCV'"
      ]
    },
    {
      "cell_type": "code",
      "execution_count": 8,
      "metadata": {
        "id": "RVGAZeiZzhVj",
        "outputId": "519e98b2-ff94-400d-e505-567f486f807d",
        "colab": {
          "base_uri": "https://localhost:8080/"
        }
      },
      "outputs": [
        {
          "output_type": "stream",
          "name": "stdout",
          "text": [
            "DecisionTreeClassifier(max_depth=4, random_state=12345)\n"
          ]
        }
      ],
      "source": [
        "depth_param = {'max_depth':range(1,25)}\n",
        "DecTreeMod = DecisionTreeClassifier(random_state=12345)\n",
        "DecTreeModOpt = GridSearchCV(DecTreeMod,depth_param)\n",
        "DecTreeModOpt.fit(features_train, target_train)\n",
        "DecTreeModOpt.score(features_train, target_train)\n",
        "print(DecTreeModOpt.best_estimator_)\n"
      ]
    },
    {
      "cell_type": "markdown",
      "metadata": {
        "id": "qP0t9ZydzhVk"
      },
      "source": [
        "Going as deep as 25 layers (arbitrarily chosen), we see that the optimal accuracy is obtained at a depth of 3. Since we know that a tree with a depth of 3 is good enough, let's further narrow the parameter space that the GridSearchCV function needs to look for the Random Forest model with max depth of 10. Having more than 50 estimators also doesn't feel parsimonious so based on pure feelings, I will set that as the range for the hyperparameters."
      ]
    },
    {
      "cell_type": "code",
      "execution_count": 9,
      "metadata": {
        "id": "L_D4JrgFzhVk",
        "outputId": "c7418c8f-c48e-4aae-c77d-294ef29fe715",
        "colab": {
          "base_uri": "https://localhost:8080/"
        }
      },
      "outputs": [
        {
          "output_type": "stream",
          "name": "stdout",
          "text": [
            "RandomForestClassifier(max_depth=7, n_estimators=42, random_state=12345)\n"
          ]
        },
        {
          "output_type": "execute_result",
          "data": {
            "text/plain": [
              "0.8599221789883269"
            ]
          },
          "metadata": {},
          "execution_count": 9
        }
      ],
      "source": [
        "depth_param = {'max_depth':range(1,10), 'n_estimators':range(1,50)}\n",
        "RandForestMod = RandomForestClassifier(random_state=12345)\n",
        "RandForestOpt = GridSearchCV(RandForestMod,depth_param)\n",
        "RandForestOpt.fit(features_train, target_train)\n",
        "print(RandForestOpt.best_estimator_)\n",
        "RandForestOpt.score(features_train, target_train)"
      ]
    },
    {
      "cell_type": "markdown",
      "metadata": {
        "id": "IyAjxNRtzhVl"
      },
      "source": [
        "This took a very long time to run. If run time is a priority, the parameter space needs to be greatly reduced. Here, we see that max depth of 8 worked best, along with 46 estimators. 46 estimators seems like too much so the company needs to evaluate whether they need this marginal increase in accuracy at the cost of having a bulky model."
      ]
    },
    {
      "cell_type": "markdown",
      "metadata": {
        "id": "3pvp9EAOzhVl"
      },
      "source": [
        "<div class=\"alert alert-block alert-success\">\n",
        "<b>Success:</b> The tuning hyperparameters was done great! GreatSearch was correctly used.  \n",
        "</div>"
      ]
    },
    {
      "cell_type": "markdown",
      "metadata": {
        "id": "1yAy3qKLzhVm"
      },
      "source": [
        "# Check the quality of the model using the test set"
      ]
    },
    {
      "cell_type": "code",
      "execution_count": 10,
      "metadata": {
        "id": "rKbppNb9zhVm",
        "outputId": "407e5b26-eeb7-4718-f24c-670283ec0805",
        "colab": {
          "base_uri": "https://localhost:8080/"
        }
      },
      "outputs": [
        {
          "output_type": "execute_result",
          "data": {
            "text/plain": [
              "0.7884914463452566"
            ]
          },
          "metadata": {},
          "execution_count": 10
        }
      ],
      "source": [
        "features_test_accuracy = features_test\n",
        "predictions_test_accuracy = RandForestOpt.predict(features_test_accuracy)\n",
        "quality = accuracy_score(target_test, predictions_test_accuracy)\n",
        "quality"
      ]
    },
    {
      "cell_type": "markdown",
      "metadata": {
        "id": "wg2X8uHNzhVn"
      },
      "source": [
        "In this project, the threshold for accuracy is 0.75. We see that the Random Forest model has an accuracy of 80.2%, which is good enough for us. We don't need to check the other models since this one had a better accuracy on the training data, but out of curiosity, let's see how the decision tree model, our second best one, does on the test data."
      ]
    },
    {
      "cell_type": "code",
      "execution_count": 11,
      "metadata": {
        "id": "ZP3iQ3RNzhVn",
        "outputId": "9e10d34a-ed31-4a49-aacc-c81bdf3e0ed5",
        "colab": {
          "base_uri": "https://localhost:8080/"
        }
      },
      "outputs": [
        {
          "output_type": "execute_result",
          "data": {
            "text/plain": [
              "0.7884914463452566"
            ]
          },
          "metadata": {},
          "execution_count": 11
        }
      ],
      "source": [
        "features_test_accuracy = features_test\n",
        "predictions_test_accuracy = DecTreeModOpt.predict(features_test_accuracy)\n",
        "quality = accuracy_score(target_test, predictions_test_accuracy)\n",
        "quality"
      ]
    },
    {
      "cell_type": "markdown",
      "metadata": {
        "id": "fvxhdMv3zhVn"
      },
      "source": [
        "Even the decision tree model has a good enough result, but as we predicted, the Random Forest Classifier outperforms it. Now, let's look into the precision scores out of curiosity."
      ]
    },
    {
      "cell_type": "code",
      "execution_count": 12,
      "metadata": {
        "id": "iUn4jeUYzhVo",
        "outputId": "0eec4f2b-f463-4668-bf93-5fbf1e49f452",
        "colab": {
          "base_uri": "https://localhost:8080/"
        }
      },
      "outputs": [
        {
          "output_type": "execute_result",
          "data": {
            "text/plain": [
              "0.46938775510204084"
            ]
          },
          "metadata": {},
          "execution_count": 12
        }
      ],
      "source": [
        "precision = precision_score(RandForestOpt.predict(features_test_accuracy), target_test)\n",
        "precision "
      ]
    },
    {
      "cell_type": "code",
      "execution_count": 13,
      "metadata": {
        "id": "8k1I8NCxzhVo",
        "outputId": "19694b93-b545-497f-a70e-e50159a9f309",
        "colab": {
          "base_uri": "https://localhost:8080/"
        }
      },
      "outputs": [
        {
          "output_type": "execute_result",
          "data": {
            "text/plain": [
              "0.4642857142857143"
            ]
          },
          "metadata": {},
          "execution_count": 13
        }
      ],
      "source": [
        "precision = precision_score(DecTreeModOpt.predict(features_test_accuracy), target_test)\n",
        "precision "
      ]
    },
    {
      "cell_type": "markdown",
      "metadata": {
        "id": "wGMykHDSzhVp"
      },
      "source": [
        "Both of our models, unfortunately, have a very low precision. This means that the chance that we will pick the Ultra when the plan is actually Smart and vice versa (false positive) is quite high. "
      ]
    },
    {
      "cell_type": "markdown",
      "metadata": {
        "id": "rNPobwtUzhVp"
      },
      "source": [
        "# Conclusion\n",
        "\n",
        "The data was so big and exhibited a pattern apparent enough that all 3 classification algorithms I implemented performed decently. Precision is a concern, but since the requirement was to focus on accuracy, we don't need to explore that for now. Random forest and decision tree algorithms had a slight difference in performance in terms of accuracy, but tuning the hyperparameters for the random forest classifier is a very computationally intensive task.\n",
        "\n",
        "Finally, despite our very liberal hyperparameter requirements, we managed to avoid overfitting. We know this because our models performed very well on the test dataset. "
      ]
    },
    {
      "cell_type": "markdown",
      "metadata": {
        "id": "TRSTWMYvzhVq"
      },
      "source": [
        "<div class=\"alert alert-block alert-success\">\n",
        "<b>Success</b> Testing was processed in a good way!\n",
        "</div>"
      ]
    }
  ],
  "metadata": {
    "kernelspec": {
      "display_name": "Python 3",
      "language": "python",
      "name": "python3"
    },
    "language_info": {
      "codemirror_mode": {
        "name": "ipython",
        "version": 3
      },
      "file_extension": ".py",
      "mimetype": "text/x-python",
      "name": "python",
      "nbconvert_exporter": "python",
      "pygments_lexer": "ipython3",
      "version": "3.7.6"
    },
    "colab": {
      "name": "Week 4 Introduction to Regression Project .ipynb",
      "provenance": [],
      "collapsed_sections": [],
      "include_colab_link": true
    }
  },
  "nbformat": 4,
  "nbformat_minor": 0
}